{
 "cells": [
  {
   "cell_type": "code",
   "execution_count": 1,
   "id": "b75f15d2-d5e3-487e-8e68-8afa82c24e38",
   "metadata": {},
   "outputs": [
    {
     "name": "stdout",
     "output_type": "stream",
     "text": [
      "Correlation between Maths and CS scores: 0.6724540512839939\n"
     ]
    }
   ],
   "source": [
    "import pandas as pd\n",
    "\n",
    "# Sample data\n",
    "data = {\n",
    "    'Names': ['Alice', 'Bob', 'Charlie', 'David', 'Eva'],\n",
    "    'Score in Maths': [85, 78, 92, 88, 76],\n",
    "    'Score in CS': [95, 80, 88, 90, 82]\n",
    "}\n",
    "\n",
    "# Creating DataFrame\n",
    "df = pd.DataFrame(data)\n",
    "\n",
    "# Calculating the correlation\n",
    "correlation = df['Score in Maths'].corr(df['Score in CS'])\n",
    "\n",
    "print(f\"Correlation between Maths and CS scores: {correlation}\")"
   ]
  },
  {
   "cell_type": "code",
   "execution_count": 4,
   "id": "6ca76298-0e35-4bdc-9d61-d98fbcf7515f",
   "metadata": {},
   "outputs": [
    {
     "name": "stdout",
     "output_type": "stream",
     "text": [
      "Score in Maths      0.672454\n",
      "Score in Physics    0.778747\n",
      "Name: Score in CS, dtype: float64\n"
     ]
    }
   ],
   "source": [
    "\n",
    "# Sample data\n",
    "data = {\n",
    "    'Names': ['Alice', 'Bob', 'Charlie', 'David', 'Eva'],\n",
    "    'Score in Maths': [85, 78, 92, 88, 76],\n",
    "    'Score in CS': [95, 80, 88, 90, 82],\n",
    "    'Score in Physics': [89, 77, 93, 85, 78]\n",
    "}\n",
    "\n",
    "# Creating DataFrame\n",
    "df = pd.DataFrame(data)\n",
    "\n",
    "# Dropping non-numeric columns if any\n",
    "df_numeric = df.drop(columns=['Names'])\n",
    "\n",
    "# Specify the dependent variable\n",
    "dependent_variable = 'Score in CS'\n",
    "\n",
    "# Calculate correlation of each feature with the dependent variable\n",
    "correlations = df_numeric.corr()[dependent_variable].drop(dependent_variable)\n",
    "\n",
    "print(correlations)"
   ]
  },
  {
   "cell_type": "code",
   "execution_count": null,
   "id": "27e20643-ab86-48e7-af68-e564d74f0946",
   "metadata": {},
   "outputs": [],
   "source": [
    "#High Degree: Values between ±0.50 and ±1 suggest a strong correlation. Moderate Degree: Values between ±0.30 and ±0.49 indicate a moderate correlation. Low Degree: Values below +0.29 are considered a weak correlation. No Correlation: A value of zero implies no relationship."
   ]
  }
 ],
 "metadata": {
  "kernelspec": {
   "display_name": "Python 3 (ipykernel)",
   "language": "python",
   "name": "python3"
  },
  "language_info": {
   "codemirror_mode": {
    "name": "ipython",
    "version": 3
   },
   "file_extension": ".py",
   "mimetype": "text/x-python",
   "name": "python",
   "nbconvert_exporter": "python",
   "pygments_lexer": "ipython3",
   "version": "3.9.13"
  }
 },
 "nbformat": 4,
 "nbformat_minor": 5
}
